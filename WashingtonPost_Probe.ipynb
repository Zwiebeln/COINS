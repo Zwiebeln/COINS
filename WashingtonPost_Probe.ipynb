{
 "cells": [
  {
   "cell_type": "code",
   "execution_count": 13,
   "metadata": {
    "collapsed": false
   },
   "outputs": [],
   "source": [
    "import re\n",
    "import numpy as np\n",
    "from bs4 import BeautifulSoup\n",
    "import requests\n",
    "from urllib.request import urlopen"
   ]
  },
  {
   "cell_type": "code",
   "execution_count": 12,
   "metadata": {
    "collapsed": false
   },
   "outputs": [],
   "source": [
    "url = 'http://www.washingtonpost.com/'\n",
    "content= requests.get(url)\n",
    "soup = BeautifulSoup(content.text, \"html5lib\")"
   ]
  },
  {
   "cell_type": "code",
   "execution_count": 13,
   "metadata": {
    "collapsed": false
   },
   "outputs": [
    {
     "name": "stdout",
     "output_type": "stream",
     "text": [
      "Get breaking news alerts from \n",
      "Trump promised $25,000 to a grieving military father in a phone call. The check hasn’t arrived.\n",
      "Soldier killed in Niger and ensnared in Trump controversy was highly regarded by his peers\n",
      "The Fix: Controversies show a White House clearly unmoored, not orchestrated chaos\n",
      "Spain moves to take over Catalonia’s government in unprecedented effort to stop region’s bid for independence\n",
      "This fallout shelter was untouched for 55 years. It might be handy now.\n",
      "White House wavers on sending Trump to demilitarized zone along North Korean border\n",
      "Democrats are the real abortion extremists\n",
      "The White House says free trade causes wife-beating. Why stop there?\n",
      "Richard Spencer is not an emergency\n",
      "The enablers of Trump’s dangerous presidency\n",
      "Santa Rosa ignored nature’s warning\n",
      "Trump trivializes the deaths of four soldiers\n",
      "What Sessions wouldn’t say was more revealing than what he did\n",
      "Get ready for the smoke and mirrors of Putin 2018\n",
      "From Ann Coulter to Nicki Minaj: Russian operatives harnessed the power of American celebrities\n",
      "Trump’s 4-Pinocchio claim that insurance companies ‘have made a fortune’ from Obamacare\n",
      "‘Shrinking, shrinking, shrinking’: Puerto Rico faces a demographic disaster\n",
      "After Bill O’Reilly’s taunt, Jake Tapper reminds him he was ‘humiliated in front of the world’\n",
      "We’ve ID’d the mystery woman in those Melania Trump-impostor rumors. (It’s Melania Trump.)\n",
      "What the wildfires leave behind: Getting a closer look at the devastation in California\n",
      "Single-payer would drastically change health care in America. Here’s how it works.\n",
      "How Congress allied with drug company lobbyists to derail the DEA’s war on opioids\n",
      "Photos of the royal family: William, Catherine, George and Charlotte\n",
      "Homes you can buy for $3 million\n",
      "Here are 22 of the week’s best photos\n",
      "White ex-Tulsa police officer convicted of fatally shooting daughter’s black boyfriend\n",
      "Spam heists in Hawaii prompt retailers to put the wildly popular 'mystery meat' in locked cases\n",
      "A veteran died as a nurse’s aide played video games instead of checking on him, report says\n",
      "Chelsea Handler says Trump’s presidency motivated her to leave her talk show for activism\n",
      "Lawsuit: Big Pharma funded terrorism in Iraq with payments to corrupt health ministry\n",
      " Trump offered a grieving military father $25,000 in a phone call \n",
      " \n",
      " \n",
      " \n",
      " White ex-Tulsa police officer convicted of fatally shooting daughter’s black boyfriend \n",
      "Today's print \n",
      "View e-Replica \n",
      "How to set a beautiful table with Liz Curtis - Home Front\n",
      "Color of Money Live (October 19)\n",
      "Web Hostess Live: The latest from the Web\n",
      "Why it's important to teach children about money\n",
      "They're going back to school...but they already graduated\n",
      "The data landscape evolves quickly. Here's how to keep up.\n"
     ]
    }
   ],
   "source": [
    "for parts in soup.find_all(class_=\"headline\"): \n",
    "    #print (parts)\n",
    "    #get information from <a> tags\n",
    "    if parts.a: \n",
    "        print(parts.a.text.replace(\"\\n\", \" \").strip())\n",
    "    #but some article titles are not included in the <a>\n",
    "    else: \n",
    "        print(parts.contents[0])"
   ]
  },
  {
   "cell_type": "markdown",
   "metadata": {},
   "source": [
    "##"
   ]
  },
  {
   "cell_type": "code",
   "execution_count": 14,
   "metadata": {
    "collapsed": false
   },
   "outputs": [],
   "source": [
    "blogAddress = 'http://www.washingtonpost.com/blogs/right-turn/'\n",
    "\n",
    "def articleUrls(blogAddress):\n",
    "    content= requests.get(blogAddress)\n",
    "    soup = BeautifulSoup(content.text, \"html5lib\")\n",
    "    links = soup.findAll(\"a\")\n",
    "    t = set([ link[\"href\"] for link in links if link.has_attr('href')])\n",
    "    l = []\n",
    "    for s in t:\n",
    "        a = s.split('/')\n",
    "        if len(a)==11 and a[4]=='right-turn' and a[-1]!='#comments':\n",
    "            l.append(s)\n",
    "    return l"
   ]
  },
  {
   "cell_type": "code",
   "execution_count": 15,
   "metadata": {
    "collapsed": false
   },
   "outputs": [
    {
     "name": "stdout",
     "output_type": "stream",
     "text": [
      "['https://www.washingtonpost.com/blogs/right-turn/wp/2017/10/19/when-giving-himself-a-perfect-score-on-puerto-rico-isnt-the-nuttiest-part/', 'https://www.washingtonpost.com/blogs/right-turn/wp/2017/10/20/politicization-of-an-already-too-political-foreign-policy/', 'https://www.washingtonpost.com/blogs/right-turn/wp/2017/10/19/this-is-what-a-president-sounds-like/', 'https://www.washingtonpost.com/blogs/right-turn/wp/2017/10/19/gillespie-falls-off-the-tightrope/', 'https://www.washingtonpost.com/blogs/right-turn/wp/2017/10/20/morning-bits-1173/', 'https://www.washingtonpost.com/blogs/right-turn/wp/2017/10/20/faith-leaders-need-to-shape-up/', 'https://www.washingtonpost.com/blogs/right-turn/wp/2017/10/19/a-day-in-court-trumps-emoluments-problem-his-challengers-standing-problem/', 'https://www.washingtonpost.com/blogs/right-turn/wp/2017/10/19/the-gop-is-the-party-of-roy-moore/', 'https://www.washingtonpost.com/blogs/right-turn/wp/2017/10/20/how-do-you-argue-for-roy-moore/', 'https://www.washingtonpost.com/blogs/right-turn/wp/2017/10/20/trump-makes-himself-john-kelly-and-everyone-around-them-look-rotten-yet-again/']\n"
     ]
    }
   ],
   "source": [
    "l = articleUrls(blogAddress)\n",
    "print(l)"
   ]
  },
  {
   "cell_type": "code",
   "execution_count": 16,
   "metadata": {
    "collapsed": false
   },
   "outputs": [],
   "source": [
    "def getText(articleUrl):\n",
    "    content= requests.get(articleUrl)\n",
    "    soup = BeautifulSoup(content.text, \"html5lib\")\n",
    "    soup.get_text()\n",
    "    #for parts in soup.find_all(class_=\"headline-kicker\")\n",
    "    for parts in soup.find_all(class_=\"article-body\"): \n",
    "        passages=parts.findAll(\"p\")\n",
    "        for passage in passages:\n",
    "            if passage.a:\n",
    "                print( passage.a.text.replace(\"\\n\", \" \").strip())\n",
    "            else:\n",
    "                print( passage)"
   ]
  },
  {
   "cell_type": "code",
   "execution_count": 17,
   "metadata": {
    "collapsed": false
   },
   "outputs": [
    {
     "name": "stdout",
     "output_type": "stream",
     "text": [
      "about 80 percent\n",
      "for, then against, then for (sort of)\n",
      "<p>The president told reporters Thursday that while he prefers providing federal health finding in a block grant to states, he is open to a different approach for a finite period.</p>\n",
      "<p>“There will be a transition period so anything they’re working on will be short term,” Trump said, referring to Alexander and Murray. “It’ll be absolutely short term because, ultimately, we will be — it’s going to be repeal and replace.”</p>\n",
      "<p>The president has repeatedly decried the idea of paying money to insurers, which is the way cost-sharing payments are distributed.</p>\n",
      "<p>“So, I have great respect, as you know, for both of the senators that you mentioned and if they can come up with a short-term solution,” he said, without finishing the sentence. “What I did say though is, I don’t want the insurance companies making any more money . . . than they have to.”</p>\n",
      "<p>The bill has always been a short-term solution so the only thing that has changed is Trump — over and over again.</p>\n",
      "<p>He reportedly called Sen. Lamar Alexander (R-Tenn.) at least twice on Wednesday. More helpful to Alexander and Sen. Patty Murray (D-Wash.) than Trump’s contradictory meanderings are GOP co-sponsors, of which there are now a total of 12 (with 12 Democrats), more than enough to pass the bill if it comes to the floor.</p>\n",
      "<p>Alexander told his colleagues today: “This is a first step: Improve it, and pass it sooner rather than later. Our purpose is to stabilize and then lower the cost of premiums in the individual insurance market for the year 2018 and 2019.” He said pointedly, “Unless [the CSRs] are replaced with something else temporarily, there will be chaos in this country and millions of Americans will be hurt.” He also made a point of relating that he told the president this was not an insurance company bailout, but that the CSRs were designed to let low-income Americans pay their premiums.</p>\n",
      "<p>Just a day ago Trump said he wouldn’t do anything about the chaos he created by cutting off the CSRs; today he has a different answer. This is emblematic of a president who doesn’t know what he wants, what he is talking about or what is in legislation. A Senate staffer wryly remarked that the staffer’s boss didn’t really know where the president stood. “It depends on the time of day,” the senator purportedly said. Another frustrated staff member, when asked if the president was now supportive of a congressional fix to the CSRs replied good-naturedly: “Who the heck knows?!”</p>\n",
      "<p>That it seems is the best summation of Trump’s entire presidency. Good luck to the GOP getting tax reform done. They’ll need it.</p>\n",
      "None\n",
      "<p>The presence of so much military brass (and I include White House Chief of Staff John F. Kelly, who arguably is the second-most important person in the administration) in high national security posts creates the appearance of a decidedly un-American Praetorian Guard surrounding a hapless and unfit president. That’s disturbing enough. However, the policy and rhetoric coming from these people are also hyper-politicized. Rather than bringing a discerning strategic sensibility, the top-level national security officials now operate like political hacks, thereby diminishing their own influence.</p>\n",
      "<p>We saw Kelly act as a political attack dog for the president, with regard to Gold Star families.</p>\n",
      "The Post reported\n",
      "<p>His comment suggested — falsely — that a report released by U.S. intelligence agencies in January had ruled out any impact that could be attributed to a covert Russian interference campaign that involved leaks of tens of thousands of stolen emails, the flooding of social media sites with false claims and the purchase of ads on Facebook.</p>\n",
      "<p>A report compiled by the CIA and other agencies described that Russian operation as unprecedented in its scale and concluded that Moscow’s goals were to undermine public faith in the U.S. democratic process and help elect Donald Trump.</p>\n",
      "<p>But the report reached no conclusions about whether that interference had altered the outcome— an issue that U.S. intelligence officials made clear was considered beyond the scope of their inquiry.</p>\n",
      "<p>The report also warned against turning CIA analysts into political pundits. (“‘We did not make an assessment of the impact that Russian activities had on the outcome of the 2016 election,’ the report said. U.S. spy agencies are ‘charged with monitoring and assessing the intentions, capabilities, and actions of foreign actors,’ the report said, but do ‘not analyze U.S. political processes or U.S. public opinion.'” Pompeo was offering the president a reassuring, political and false defense. After a hue and cry arose, the CIA walked back his claim. As others have observed, Pompeo is the only politician among the most senior national security officials (secretaries of defense and state, national security adviser) and is quite comfortable with the president’s operating style. He runs the risk of undermining his and his agency’s objectivity and its ability to tell the president hard, uncomfortable truths.</p>\n",
      "might just pull out of the deal,\n",
      "Eliot Cohen\n",
      "<p>It seems then that we have the worst of all worlds — an excessive military presence in the highest echelons of our national security apparatus <em>and</em> an excessive degree of politicization, which undermines the administration’s waning credibility. Trump really does bring out the worst in everyone.</p>\n",
      "None\n",
      "accepting the Liberty Medal\n",
      "<p>Bush surely had President Trump in mind when he addressed conspiracy theories, nativism, incivility and more, but I think it’s safe to say his intended audience was the moribund GOP. We have now seen the party he used to lead decline into passivity and pure partisanship, again and again enabling Trump rather than rallying to American principles and looking to the c0mmon good. We’ve seen Republicans eschew governance in favor of divisive sloganeering. One president like Trump is bad enough; the acceptance of his inhumanity by one of the major parties is a tragedy and national emergency.</p>\n",
      "noting a worldwide assault on liberal democracies\n",
      "<p>Parts of Europe have developed an identity crisis. We have seen insolvency, economic stagnation, youth unemployment, anger about immigration, resurgent ethno-nationalism, and deep questions about the meaning and durability of the European Union.</p>\n",
      "<p>America is not immune from these trends. In recent decades, public confidence in our institutions has declined. Our governing class has often been paralyzed in the face of obvious and pressing needs. The American dream of upward mobility seems out of reach for some who feel left behind in a changing economy.  Discontent deepened and sharpened partisan conflicts. Bigotry seems emboldened. Our politics seems more vulnerable to conspiracy theories and outright fabrication.</p>\n",
      "<p>There are some signs that the intensity of support for democracy itself has waned, especially among the young, who never experienced the galvanizing moral clarity of the Cold War, or never focused on the ruin of entire nations by socialist central planning.  Some have called this “democratic deconsolidation.” Really, it seems to be a combination of weariness, frayed tempers, and forgetfulness.</p>\n",
      "<p>He soon pivoted to the unique challenges America faces:</p>\n",
      "<p>We have seen our discourse degraded by casual cruelty. At times, it can seem like the forces pulling us apart are stronger than the forces binding us together. Argument turns too easily into animosity. Disagreement escalates into dehumanization. Too often, we judge other groups by their worst examples while judging ourselves by our best intentions – forgetting the image of God we should see in each other.</p>\n",
      "<p>We’ve seen nationalism distorted into nativism – forgotten the dynamism that immigration has always brought to America.   We see a fading confidence in the value of free markets and international trade – forgetting that conflict, instability, and poverty follow in the wake of protectionism.</p>\n",
      "<p>We have seen the return of isolationist sentiments – forgetting that American security is directly threatened by the chaos and despair of distant places, where threats such as terrorism, infectious disease, criminal gangs and drug trafficking tend to emerge.</p>\n",
      "<p>Every Republican who endorsed Trump, turns a blind eye to his unfitness, or excuses his heinous language and conduct should feel shame upon hearing those words.</p>\n",
      "<p>Bush’s recommendation is simple but hardly simplistic: “We need to recall and recover our own identity. Americans have a great advantage: To renew our country, we only need to remember our values.” He’s talking to you, Republicans, who’ve forgotten what he rightly calls the American creed:</p>\n",
      "<p>Our identity as a nation – unlike many other nations – is not determined by geography or ethnicity, by soil or blood. Being an American involves the embrace of high ideals and civic responsibility. We become the heirs of Thomas Jefferson by accepting the ideal of human dignity found in the Declaration of Independence. We become the heirs of James Madison by understanding the genius and values of the U.S. Constitution. We become the heirs of Martin Luther King, Jr., by recognizing one another not by the color of their skin, but by the content of their character.</p>\n",
      "<p>This means that people of every race, religion, and ethnicity can be fully and equally American. It means that bigotry or white supremacy in any form is blasphemy against the American creed.</p>\n",
      "<p>There is nothing in his four basic recommendations — hardening our defenses against external threats to democracy, maintaining U.S. leadership in the world, strengthening democratic citizenship and “call[ing] on the major institutions of our democracy, public and private, to consciously and urgently attend to the problem of declining trust” — that Democrats of good faith should dispute. They’ll have differences in specifics (When should we intervene internationally? Which electoral reforms do we need?) but that is understandable and healthy.</p>\n",
      "<p>What is critical is that Bush has identified precisely the issues that must be addressed if we are to stave off Trump and Trumpism. Democrats, including ex-presidents, would be foolish not to embrace Bush’s agenda and where possible work together. After all, we are all Americans who embrace the “ideal of human dignity found in the Declaration of Independence . . .  [and] the genius and values of the U.S. Constitution” as well as the commitment to equal rights and justice for all Americans. It’s the current president who doesn’t get it, but there is a solution (several, actually) for that as well.</p>\n",
      "None\n",
      "<p>For months now, Virginia Republican gubernatorial candidate Ed Gillespie has been suffering from an identity crisis. He doesn’t want to identify with President Trump, but by keeping his distance his base may stay home in the election less than three weeks away.</p>\n",
      "The Post reports\n",
      "<p id=\"U122114958421769E\">The man who rallied Southwest Virginia to vote for Donald Trump last year quit Republican Ed Gillespie’s gubernatorial campaign this week, offended by a personal snub and exasperated by the campaign’s highly cautious stance toward the president, according to three Republicans familiar with his decision.</p>\n",
      "<p>Jack Morgan’s departure follows a half-empty Gillespie rally headlined by Vice President Pence on Saturday in Southwest Virginia, a coal country region that voted overwhelmingly for Trump in November.</p>\n",
      "<p>Note to file: Pence isn’t a draw on the campaign trail.</p>\n",
      "<p>The problem here certainly is not Pence, nor Morgan, nor even Trump. Gillespie has never decided what he wanted to be in this campaign — loyal nationalist who wants immigrants out and statues up — or the suburban-friendly, pro-business Republican who used to work for immigration reform under President George W. Bush. By attempting to be both of these, Gillespie has not endeared himself to Northern Virginia moderates nor has he convinced conservatives he is “one of them”:</p>\n",
      "<p>Coming three weeks before Election Day, the episode is just one sign that Gillespie’s risk-averse, thread-the-needle approach to Trump and hot-button cultural issues is backfiring with some members of his party’s conservative base.</p>\n",
      "<p>In the past two weeks, Gillespie has struggled to smooth over relations with some religious conservatives after privately promising a Northern Virginia business group that he would oppose any legislation seeking to regulate bathroom use by transgender people — a stance that conflicted with some of his public statements.</p>\n",
      "<p>Bathrooms. Statues. “Sanctuary cities” (of which there are none in Virginia). This sounds more like the agenda for Roy Moore’s Alabama Senate campaign than a candidate who is going to hold his base and win over independents and Democrats.</p>\n",
      "<p>Three weeks out, the polls are all over the place. Either Gillespie is up by one point or down by 14, depending on your poll. On average, he’s 5 to 6 points behind in public polling, which matches the assessment we’ve heard from Democratic operatives. That’s a competitive race, but it will be less so if Gillespie cannot get his downstate and rural voters to turn out.</p>\n",
      "remains a drag on Gillespie\n",
      "<p>In Virginia, 32% of likely voters say President Donald Trump is a factor in their vote for governor, and 20% say he is a major factor, according to a Wason Center survey of 642 likely voters. Although most voters say their choice for governor is not affected by their view of the president, the “Trump Effect” in Virginia appears to be a net negative for Republican Ed Gillespie, as the GOP electorate is slightly divided on Trump, while Ralph Northam’s Democrats are unified in their disapproval. . . .</p>\n",
      "<p>“Virginia voters have tended to choose a governor from the party not in the White House,” said Rachel Bitecofer, assistant director of the Wason Center. “This year, it looks like Donald Trump’s unpopularity is nudging them in that direction again.”</p>\n",
      "<p>Nearly half of the likely voters in Virginia (45%) say they see their vote for governor as a way to send a message to Trump and the Republicans who control Congress. Overall, 28% say their vote is a message of disapproval and 17% say it is a message of support.</p>\n",
      "<p>Rather than a Trump operative, Gillespie could have used some simple advice you’d give your kids: <em>Just be yourself.</em></p>\n",
      "<p><strong>UPDATE</strong>: Morgan says he has not left the campaign, but the campaign would not specify for The Post reporter what events he would staff.</p>\n",
      "None\n",
      "corrupted\n",
      "debased\n",
      "deteriorated\n",
      "devalued\n",
      "sullied\n",
      "deteriorated\n",
      "cheapened\n",
      "None\n",
      "The Spirit of Liberty: At Home, In the World\n",
      "<p>I’ll focus on the last — restoring democratic institutions — because of the authors’ candid assessment of religious leaders. Evangelical Christian leaders, who have become the core support for Trump and his bastardized nationalism, should take notice. The authors write that when religion uses politics as a cudgel, religion suffers:</p>\n",
      "<p>Religious leaders cannot be silent on public matters. After all, many of the greatest advances in justice in American history, including abolishing slavery and ending segregation, were the result in part of religious involvement in politics. But the manner and style of that involvement is key. When religious leaders and institutions use their faith as partisan weapons in our political wars, it undermines the credibility of their core work. Sociologists have found that connecting organized religion to partisan political agendas has led to a rise in the “nones,” meaning individuals answering “none of the above” when asked about their religious preference.</p>\n",
      "<p>Likewise, when religious leaders become thinly disguised partisans, our democracy suffers:</p>\n",
      "<p>Representatives of religious institutions who present themselves as authority figures on matters of faith and public life need to be much more careful about allowing themselves to be viewed as political operatives. Religious faith should not be subordinated to partisan loyalties and political power. “The church must be reminded that it is not the master or the servant of the state, but rather the conscience of the state,” Martin Luther King Jr. said. “It must be the guide and the critic of the state, and never its tool.”</p>\n",
      "<p>One cannot help but think that they have in mind the legion of evangelical conservatives who boosted Trump to office and now shield him from criticism, absolve him of all blame for the division he has created and fall silent when he is not honest, truthful, empathetic or kind. They act as political flacks, not religious leaders.</p>\n",
      "<p>Moreover, Melia and Wehner challenge religious leaders, as the Rev. Martin Luther King Jr. did with white Southern clergy in the civil rights era, to “play a more active role within their own communities in championing a more civil and constructive public dialogue.” Their recommendations are sound:</p>\n",
      "<p>They can do this by their teaching and by modeling how to debate public matters with conviction but also respectfully and without dehumanizing others. They can explain why religious convictions are not at odds with religious toleration, and point out why the latter is in the self-interest of faith communities. In this unusually polarized and fractious time, faith leaders have unique influence with their congregants. They can appeal for reconciliation rather than division and show that principled people can also embody magnanimity and a generosity of spirit.</p>\n",
      "<p>The damaging influence of misguided clergy who wrap themselves in sanctimony is actually worse than the authors state. Religious leaders have encouraged religious bigotry (see Roy Moore), sought to exploit fear and stereotypes (calling for transgender Americans to be thrown out of the country), demonized the Muslim faith by whipping up fear of sharia law and of refugees from war-torn states, exhorted their flock to lawlessness (e.g. refusing to recognize gay marriage) and cheered exclusion (refusal to provide services to LGBT persons; mass deportation of illegal immigrants, even “dreamers”). As we have discussed, they have become the shock troops in the culture wars, feeding their congregants’ anger and playing to their sense of victimhood.</p>\n",
      "<p>The document put out by the Bush Institute demonstrates serious and sober reflection. Its tone is elevated and entirely without rancor. No portion is more important than its spotlight on religious leaders’ responsibilities and failings. We hope that these leaders take the opportunity for <em>teshuva</em>, literally “return” in Hebrew, more commonly considered as repentance. They may not have consciously played a destructive role in dividing the United States, but their help in repairing our torn social fabric would be dearly welcomed.</p>\n",
      "None\n",
      "<p>Prognosticating a court’s ruling based on questions at oral argument is a dicey business. Nevertheless, what played out in district court in New York on Wednesday in the context of a lawsuit over President Trump’s receipt of emoluments should alarm the White House — and put Congress on notice.</p>\n",
      "<p>At issue is whether Citizens for Responsibility and Ethics in Washington, a non-profit good-government group, and several hotel/restaurateurs can challenge the president receipt of monies from foreign governments through the businesses from which he refused to divest.</p>\n",
      "Dahlia Lithwick\n",
      "<p>The DOJ has urged that—at least according to some dictionaries—an emolument requires a connection between the payment made and the president’s office or employment. Daniels thinks this is a tortured reading of the clause. “Why can’t we just say it’s addressing the compensation the president gets?”</p>\n",
      "<p>[Deputy Assistant Attorney General Brett] Shumate keeps insisting that it’s only an emolument if the president exchanges the gift for services. Judge Daniels keeps telling him that if a foreign power gives Trump $1 million to sign a treaty, it doesn’t matter if the president signs that treaty. Shumate keeps insisting this is a “gift.” “Well, not from the foreign country’s perspective,” snaps Daniels. People titter. They go round and round this mulberry bush multiple times as Daniels changes the hypo: “If you say you’re going to sell me a car for $10,000,” says Daniels, “and I show up tomorrow and there’s no car, are you saying that’s a gift?”</p>\n",
      "<p>Shumate says the gift-giver’s subjective intent doesn’t matter. Daniels says there is no difference between an official and unofficial act of the president. “Everything he does is official,” Daniels says. “It doesn’t matter if it’s in exchange for his services, whether he sleeps all day or works all day, his services arise out of the office of the president.” Shumate says none of the framers understood the Emoluments Clause to “apply to private business concerns.”</p>\n",
      "<p>Cue the hot dogs.</p>\n",
      "<p>Daniels: “So a foreign government says to the president, ‘Sign this favorable treaty and we will give you $1 million. You own a hot dog stand so we will buy a million dollars in hot dogs.’ ”</p>\n",
      "<p>Shumate: “That might be a present.”</p>\n",
      "<p>Daniels: “You are not arguing that $1 million in hot dogs is a present.”</p>\n",
      "<p>Shumate concedes that he is not.</p>\n",
      "<p>A good deal of the president’s push-back on calls to divest from his business is that the voters knew he was a businessman when they elected him and his earnings aren’t prohibited by the Constitution. The first is of no legal consequence, the second may be rejected by a federal court judge. I confess I thought this was the highest hurdle for plaintiffs to overcome, and thought a court would be hesitant to make new law in this area (where everything is new law given the paucity of litigation). That, however, may not be the plaintiffs’ biggest problem after all.</p>\n",
      "<p>The sticking point for CREW and the other plaintiffs may be “standing” — whether they have a cognizable injury the court could remedy. Daniels sounded dismissive of the notion CREW might have standing simply because it diverted resources to police this issue. On the subject of the other plaintiffs’ standing he, to my surprise, seemed to give the challengers a rough time:</p>\n",
      "<p>Daniels is perhaps most animated when he starts telling Gupta that this is a political problem, to be sorted out between the president and Congress. “Why,” he asks, “is this a legal question for the courts? It’s an issue between two branches of government. … The president has the ability to do this. I’m not sure there’s anything in the Constitution that says Congress couldn’t consent even if they thought it <em>was</em> a bribe. … Why should the president fight this out in a street brawl with individuals?”</p>\n",
      "<p>Daniels didn’t seem to push back on  government’s argument that the private plaintiffs’ injuries were too specific. Plaintiffs <em>should</em> argue that this should be a question of proof, a factual matter that can be explored in discovery and ultimately litigated before the fact-finder (judge or jury).</p>\n",
      "<p>If the case goes forward, the president will face a raft of discovery, which would include demands to see his tax returns. That would put Trump finally in the position of  choosing between the presidency and maintaining secrecy about his finances.</p>\n",
      "<p>Taking a step back here, the judge is right in the sense that the emoluments clause empowers Congress to either approve or disapprove of the president’s receipt of foreign loot. The problem is that the GOP Congress has no interest in doing so. Ah, but in 2018 control of one or both of the houses of Congress may flip, giving Democrats’ subpoena power and control of oversight hearings. They could surely demand hearings, subpoena documents, take the president to court if he refuses to turn them over and ultimately make a determination he cannot accept emoluments. It’s that face-off that the president should dread.</p>\n",
      "in a separate lawsuit\n",
      "<p>In sum, perhaps one of these lawsuits (or another) will succeed in forcing the president to disgorge financial information he desperately wants to keep under wraps. However, what Wednesday’s argument reminds us is that a change in control of Congress not only raises the possibility of impeachment but also of demands Trump refuses to accede to (e.g., to reveal his financial dealings). At that point does he take his marbles and go home to Trump Tower? Does Congress hold him in contempt? Stay tuned.</p>\n",
      "None\n",
      "<p>It is hard to fathom that even the few Republican politicians who resisted endorsing Donald Trump for president find it beyond their ability to denounce Roy Moore, the Republican Senate candidate in Alabama. And make no mistake, Moore is worse than Trump. By a lot.</p>\n",
      "<p>This is a man who said, “Homosexual conduct should be illegal, yes.” Comparing it to bestiality, he said, “It is a moral precept upon which this country was founded.” Presumably he meant that <em>criminalizing</em> homosexuality is a precept upon which the United States is founded, which would still be news to any sentient human being.</p>\n",
      "Moore has proclaimed\n",
      "crude bigotry\n",
      "9/11 was the result of America’s ungodliness\n",
      "avowed birther\n",
      "neo-Nazi, white supremacist\n",
      "<p>Former Alabama judge Roy Moore, a Republican candidate for U.S. Senate, once said publicly that he did not take a “regular salary” from the small charity he founded to promote Christian values because he did not want to be a financial burden.</p>\n",
      "<p>But privately, Moore had arranged to receive a salary of $180,000 a year for part-time work at the Foundation for Moral Law, internal charity documents show. He collected more than $1 million as president from 2007 to 2012, compensation that far surpassed what the group disclosed in its public tax filings most of those years.</p>\n",
      "<p>When the charity couldn’t afford the full amount, Moore in 2012 was given a promissory note for back pay eventually worth $540,000 or an equal stake of the charity’s most valuable asset, a historic building in Montgomery, Ala., mortgage records show. He holds that note even now, a charity official said. . . . A Washington Post review of public and internal charity documents found that errors and gaps in the group’s federal tax filings obscured until now the compensation paid to Moore.</p>\n",
      "CNN recounts\n",
      "<p>In the 1990s, Moore had done legal battle over a wooden “Ten Commandments” plaque in his courtroom. But after taking over as chief justice, he escalated — planting a granite monument to the commandments, weighing in at more than 5,000 pounds, inside the state supreme court building.</p>\n",
      "<p>A series of legal challenges, successful ones, eventually left Moore with a choice: either follow federal orders and remove the rock, or be removed himself. And so he was, in November 2003, by a judicial ethics panel.</p>\n",
      "<p>Moore ran and won again in 2012. But again, he defied a federal court decision — this time striking down state laws banning same-sex marriage — and found himself facing off with the same ethics body that effectively ousted him nearly a decade earlier. In April of this year, he resigned his post to pursue Sessions’ vacated seat.</p>\n",
      "<p>On Wednesday, he opined that NFL athletes who knelt during the national anthem were breaking the law. It’s hard to imagine how an ex-judge (albeit a disgraced one) could opine that the ultimate expression of free speech is illegal.</p>\n",
      "wrote Reason Magazine’s Brian Doherty\n",
      "Lee said.\n",
      "<p>This country is divided enough. Millions of Americans feel that Washington, D.C. and the dominant culture despise them. And how could they not, when they see their leaders sitting here, grilling patriotic citizens about their faith like inquisitors? How could they not feel like their values are not welcome in this chamber?</p>\n",
      "<p>Religious freedom is of deep concern to me as a Mormon. My church has weathered extraordinary religious persecution, much of it sponsored by the government. The first Latter Day Saints were exiled from home after home. In 1838, the governor of Missouri ordered that Mormons be driven from the land or “exterminated.” …</p>\n",
      "<p>There is a way out of this vicious cycle of religious intolerance, Mr. President. And that is for all of us to treat one another with civility and respect, while jealously defending the rights of conscience—for ourselves, our neighbors, and all our fellow citizens. For Christians, Jews, Muslims, atheists, and all others.</p>\n",
      "<p>His hypocrisy is emetic.</p>\n",
      "<p>As bad as this glaring hypocrisy is, the silence of many Republicans who should know better reveals the depth to which the GOP has descended. Sen. Ben Sasse (R-Neb.), who refrained from endorsing Trump, has been silent about Moore.</p>\n",
      "National Republican Senatorial Committee\n",
      "None\n",
      "Bill Kristol\n",
      "<p>1. Doug Jones would be a better U.S. senator than Roy Moore.</p>\n",
      "<p>2. Moore as a senator would be a constant embarrassment to the GOP</p>\n",
      "<p>3. Moore’s defeat wouldn’t deprive GOP of Senate majority. So why should Republican senators, donors, etc, support Moore? A: They shouldn’t.</p>\n",
      "Eric Columbus,\n",
      "Sasse tweeted\n",
      "<p>If one can refrain from endorsing President Trump and routinely criticize him, denounce Spencer and praise Bush’s speech repudiating Trumpism of the type the president and Moore subscribe to, why cannot a sitting U.S. senator denounce Moore? Sasse’s office did not respond.</p>\n",
      "so many current and former lawmakers\n",
      "<p>The easy answer might be the correct one, namely that we live in an era of moral cowards. GOP politicians run scared of the mob, afraid to stick their heads up for fear of drawing protests, angry tweets or — heavens forbid! — a primary challenger from the right by someone just like Roy Moore. The squeamish Republicans seek cover in the sea of other cowering politicians, knowing that there is safety in numbers. Attention normally gets focused only on him/her when they go against the prevailing tide. Being one of the crowd, even a detestable one, give them security, or so they think.</p>\n",
      "<p>Another rationale would go something like this: <em>All politicians are rotten so why not have a rotten one who’ll vote my way most of the time? </em>This combines the bigotry of low expectations (all pols are morally depraved) with the notion that character does not have a place in political calculations. To be sure, those who voted for Trump might have expected him to change or improve, but many others were willing to tolerate the racism, ignorance, cruelty, etc. to get what they wanted (e.g., a tax cut). These voters decided en masse to put on the back burner considerations of character much the way this administration has back-burnered human rights. By prioritizing other things they allow the bad guys, whether despots in China or Islamophobes  in Alabama, to keep behaving badly.</p>\n",
      "<p>The back burner philosophy has it all wrong, as I think Trump has shown. Without character — some degree of honesty, diligence, empathy, decency — every day becomes a calamity. The morally-deficient pol’s inhumanity inevitably pops up again and again, turning otherwise easy photo ops into disasters and interfering with any semblance of an agenda. <em>Throw paper towels in Puerto Rico. Use a general’s dead son to justify a clumsy condolence call or lack attachment to any position on a critical matter so as to utterly befuddle and paralyze Congress</em>. The unworkability of an undisciplined, self-absorbed leader is precisely why the GOP after a time dumped House Speaker Newt Gingrich. He was too much trouble and was getting in the way.</p>\n",
      "<p>Bush’s appearance Thursday reminded us that we have had good and bad presidents and some in between, but the <em>precondition</em> for performing in high office is embrace of American values and decent character. Trump didn’t make the grade; Moore surely doesn’t. Until pols like Coburn and Sasse recognize this, we will continue on the slippery slope downward to a place where we cannot govern ourselves or stand our elected leaders.</p>\n",
      "None\n",
      "<p>President Trump had to have the last word. He always does. On Thursday evening, after two days of controversy surrounding his call to the widow of Sgt. La David Johnson and the remarkable appearance by Gold Star father and White House Chief of Staff John Kelly, felt compelled to tweet: “The Fake News is going crazy with wacky Congresswoman Wilson(D), who was SECRETLY on a very personal call, and gave a total lie on content!” Just about everything in the tweet was false, so let’s start from the top.</p>\n",
      "<p>Trump, after being nagged by the media as to why he hadn’t promptly sent condolences to four military families who lost sons in Niger, claimed that other presidents didn’t call Gold Star families (untrue) and dragged Kelly into it, saying Barack Obama never called Kelly. (True but incomplete, since Kelly sat at Michelle Obama’s table at an event the former president hosted in honor of Gold Star families.)</p>\n",
      "<p>Only after that scene did Trump finally decide to call Johnson’s widow, Myeshia Johnson, who was in a car with Johnson’s mother and family friend Rep. Frederica Wilson (D-Fla.). She put the phone on speaker. According to Wilson, Johnson’s widow, Johnson’s mother and even Kelly (who said he had given Trump the line), Trump told Johnson her husband knew what he was getting into when he signed up. (Trump came across as callous delivering the line, whereas in Kelly’s telling it was moving and reverential.)</p>\n",
      "<p>Wilson went public to berate the president and castigate him for making Johnson’s wife cry. When cornered, Trump does what he always does: <em>Lie</em>. He denied saying “this is what he signed up for” to Johnson. He also claimed he had proof he <em>didn’t</em> say it. That was apparently untrue also.</p>\n",
      "<p>For another day, controversy swirled and the White House was obviously getting nervous that the president was starting to look inhuman, more so than usual. So the White House did what it now finds useful, sending out the only White House staffer who has a shred of credibility, Kelly. Kelly spoke nobly, recalling with tremendous emotion his own experience learning of his son’s death, and solemnly related the process for notifying families.</p>\n",
      "The Miami Herald reported\n",
      "<p>Kelly criticized Democratic U.S. Rep. Frederica Wilson for claiming “she got the money” for the new building during the 2015 ceremony while he and others in the audience were focused on the heroism of agents Benjamin Grogan and Jerry Dove, killed during a 1986 shootout with bank robbers south of Miami.</p>\n",
      "<p>Thursday night, Wilson said Kelly got the story flat-out wrong. In fact, she said Washington approved the money before she was even in Congress. The legislation she sponsored named the building after Grogan and Dove, a law enacted just days before the ceremony.</p>\n",
      "<p>Kelly then went into a weird soliloquy:</p>\n",
      "<p>It stuns me that a member of Congress would have listened in on that conversation, absolutely stuns me. And I thought at least that was sacred. You know, when I was a kid growing up, a lot of things were sacred in our country. Women were sacred, looked upon with great honor. That’s obviously not the case anymore, as we see from recent cases. Life, the dignity of life was sacred. That’s gone. Religion, that seems to be gone as well. Gold Star families, I think that left in the convention over the summer.</p>\n",
      "<p>Women were “sacred”? (I’m unaware that women were once immune from sexual harassment in the workplace, unless, of course, Kelly is recalling when women generally weren’t allowed to work outside the house.) Some observers thought Kelly was slyly jabbing at Trump for attacking the Khans, another Gold Star family, or for Trump’s own history of alleged sexual harassment and abuse. It frankly sounded to me as though he was criticizing the Khans for weighing in on Hillary Clinton’s behalf. The spiel sounded like a campaign riff directed at members of the nostalgic Trump base, who imagine some mythical time in our past when women were on a pedestal and religion was a more dominant factor in public life.</p>\n",
      "<p>And that is what brought us to Trump’s tweet Thursday night.</p>\n",
      "<p>If you’ve decided after revisiting all of this that everyone, with the exception of the heroic Sgt. Johnson, his widow and his mother, looks shabby, you’re not alone. Trump apparently was trying to be nice but made the widow cry in his original call. Rather than apologize and move on, he spent two days lying, dragging others into the mess and ultimately distracting attention away from the slain serviceman and three others killed in Niger.</p>\n",
      "The Post reported\n",
      "<p>As for Wilson, she was telling the truth about the call, but acting more than a little too gleeful in ratting out the president when attention should have been on the Gold Star families.</p>\n",
      "<p>Sometimes you just want the whole lot of them to go away.</p>\n",
      "<p>We’ve grown sadly accustomed to watching Trump behave badly, punching “down” at those who call him out. The focus must always be on him, the perpetual victim.</p>\n",
      "The Post reported\n",
      "<p>Moreover, Kelly’s presence brings us back to the unprecedented number of military-men-turned-civilian-counselors in this administration. Stocking an administration with generals diminishes the military (by forcing revered figures to play politics) and undermines the concept of civilian control, especially in an administration in which the ex-military and military advisers are taking “adult day care” shifts to mind an unfit president, as Sen. Bob Corker (R-Tenn.) memorably said.</p>\n",
      "<p>Our men and women placing themselves in harm’s way and their families deserve better than the Trump crowd. The country deserves honest civilian leaders. Unfortunately, like all Americans, our fighting men and women are stuck with Trump — and his reckless saber-rattling — for the time being.</p>\n",
      "<p> </p>\n",
      "None\n"
     ]
    }
   ],
   "source": [
    "blogs={}\n",
    "for i in l:\n",
    "    text = getText(i)\n",
    "    print(text)\n",
    "    #blog[i]= text"
   ]
  },
  {
   "cell_type": "code",
   "execution_count": 7,
   "metadata": {
    "collapsed": true
   },
   "outputs": [],
   "source": [
    "def getText(articleUrl):\n",
    "    content= requests.get(articleUrl)\n",
    "    soup = BeautifulSoup(content.text, \"html5lib\")\n",
    "    soup.get_text()\n",
    "    #for parts in soup.find_all(class_=\"headline-kicker\")\n",
    "    for parts in soup.find_all(class_=\"article-body\"): \n",
    "        passages=parts.findAll(\"p\")\n",
    "        for passage in passages:\n",
    "            if passage.a:\n",
    "                return (passage.a.text.replace(\"\\n\", \" \").strip())\n",
    "            else:\n",
    "                return (passage)"
   ]
  },
  {
   "cell_type": "code",
   "execution_count": 46,
   "metadata": {
    "collapsed": false
   },
   "outputs": [
    {
     "name": "stdout",
     "output_type": "stream",
     "text": [
      "The Spirit of Liberty: At Home, In the World\n",
      "corrupted\n",
      "<p>President Trump had to have the last word. He always does. On Thursday evening, after two days of controversy surrounding his call to the widow of Sgt. La David Johnson and the remarkable appearance by Gold Star father and White House Chief of Staff John Kelly, felt compelled to tweet: “The Fake News is going crazy with wacky Congresswoman Wilson(D), who was SECRETLY on a very personal call, and gave a total lie on content!” Just about everything in the tweet was false, so let’s start from the top.</p>\n",
      "<p>It is hard to fathom that even the few Republican politicians who resisted endorsing Donald Trump for president find it beyond their ability to denounce Roy Moore, the Republican Senate candidate in Alabama. And make no mistake, Moore is worse than Trump. By a lot.</p>\n",
      "accepting the Liberty Medal\n",
      "<p>The presence of so much military brass (and I include White House Chief of Staff John F. Kelly, who arguably is the second-most important person in the administration) in high national security posts creates the appearance of a decidedly un-American Praetorian Guard surrounding a hapless and unfit president. That’s disturbing enough. However, the policy and rhetoric coming from these people are also hyper-politicized. Rather than bringing a discerning strategic sensibility, the top-level national security officials now operate like political hacks, thereby diminishing their own influence.</p>\n",
      "Bill Kristol\n",
      "<p>President Trump had to have the last word. He always does. On Thursday evening, after two days of controversy surrounding his call to the widow of Sgt. La David Johnson and the remarkable appearance by Gold Star father and White House Chief of Staff John Kelly, felt compelled to tweet: “The Fake News is going crazy with wacky Congresswoman Wilson(D), who was SECRETLY on a very personal call, and gave a total lie on content!” Just about everything in the tweet was false, so let’s start from the top.</p>\n",
      "about 80 percent\n",
      "<p>Prognosticating a court’s ruling based on questions at oral argument is a dicey business. Nevertheless, what played out in district court in New York on Wednesday in the context of a lawsuit over President Trump’s receipt of emoluments should alarm the White House — and put Congress on notice.</p>\n",
      "<p>For months now, Virginia Republican gubernatorial candidate Ed Gillespie has been suffering from an identity crisis. He doesn’t want to identify with President Trump, but by keeping his distance his base may stay home in the election less than three weeks away.</p>\n"
     ]
    }
   ],
   "source": [
    "blogs={}\n",
    "for i in l:\n",
    "    text = getText(i)\n",
    "    print(text)\n",
    "    #blog[i]= text"
   ]
  },
  {
   "cell_type": "code",
   "execution_count": 40,
   "metadata": {
    "collapsed": false
   },
   "outputs": [
    {
     "name": "stdout",
     "output_type": "stream",
     "text": [
      "Requirement already satisfied: lxml in /Users/ZhouJiexin/Library/Python/3.6/lib/python/site-packages\r\n"
     ]
    }
   ],
   "source": [
    "!pip3 install lxml"
   ]
  },
  {
   "cell_type": "code",
   "execution_count": 69,
   "metadata": {
    "collapsed": false
   },
   "outputs": [
    {
     "name": "stdout",
     "output_type": "stream",
     "text": [
      "Requirement already up-to-date: lxml in /Users/ZhouJiexin/Library/Python/3.6/lib/python/site-packages\n",
      "Collecting cssselect\n",
      "  Downloading cssselect-1.0.1-py2.py3-none-any.whl\n",
      "Installing collected packages: cssselect\n",
      "Successfully installed cssselect-1.0.1\n"
     ]
    }
   ],
   "source": [
    "!pip3 install --upgrade lxml\n",
    "!pip3 install cssselect"
   ]
  },
  {
   "cell_type": "code",
   "execution_count": 2,
   "metadata": {
    "collapsed": false
   },
   "outputs": [],
   "source": [
    "import re\n",
    "from urllib.request import urlopen,Request\n",
    "import numpy as np\n",
    "from bs4 import BeautifulSoup"
   ]
  },
  {
   "cell_type": "code",
   "execution_count": 3,
   "metadata": {
    "collapsed": true
   },
   "outputs": [],
   "source": [
    "blogAddress = 'http://www.washingtonpost.com/blogs/right-turn/'"
   ]
  },
  {
   "cell_type": "code",
   "execution_count": 4,
   "metadata": {
    "collapsed": false
   },
   "outputs": [],
   "source": [
    "def articleUrls(blogAddress):\n",
    "    req = Request(blogAddress, headers={'User-Agent': 'Mozilla/5.0'})\n",
    "    html = urlopen(req).read()\n",
    "    soup = BeautifulSoup(html,\"lxml\")\n",
    "    links = soup.findAll(\"a\")\n",
    "    t = set([ link[\"href\"] for link in links if link.has_attr('href')])\n",
    "    l = []\n",
    "    for s in t:\n",
    "        a = s.split('/')\n",
    "        if len(a)==11 and a[4]=='right-turn' and a[-1]!='#comments':\n",
    "            l.append(s)\n",
    "    return l\n",
    "\n",
    "l = articleUrls(blogAddress)"
   ]
  },
  {
   "cell_type": "code",
   "execution_count": 5,
   "metadata": {
    "collapsed": false
   },
   "outputs": [],
   "source": [
    "clean = lambda s: str(re.sub('[\\W_]+', ' ', s))\n",
    "\n",
    "def getText(articleUrl):\n",
    "    html = urlopen(articleUrl).read()\n",
    "    soup = BeautifulSoup(html,\"lxml\")\n",
    "    article = soup.body.findAll('article')\n",
    "    text = ' '.join([clean(s.text) for s in article[0].findAll('p')])\n",
    "    return text"
   ]
  },
  {
   "cell_type": "code",
   "execution_count": 6,
   "metadata": {
    "collapsed": true
   },
   "outputs": [],
   "source": [
    "blogs = {}\n",
    "for i in l:\n",
    "    text = getText(i)\n",
    "    blogs[i] = text"
   ]
  },
  {
   "cell_type": "code",
   "execution_count": 7,
   "metadata": {
    "collapsed": false
   },
   "outputs": [
    {
     "name": "stdout",
     "output_type": "stream",
     "text": [
      "{'https://www.washingtonpost.com/blogs/right-turn/wp/2017/10/20/politicization-of-an-already-too-political-foreign-policy/': 'The presence of so much military brass and I include White House Chief of Staff John F Kelly who arguably is the second most important person in the administration in high national security posts creates the appearance of a decidedly un American Praetorian Guard surrounding a hapless and unfit president That s disturbing enough However the policy and rhetoric coming from these people are also hyper politicized Rather than bringing a discerning strategic sensibility the top level national security officials now operate like political hacks thereby diminishing their own influence  We saw Kelly act as a political attack dog for the president with regard to Gold Star families  We saw CIA Director Mike Pompeo falsely claim that the intelligence community found that Russian interference did not affect the 2016 election This was blatantly false The Post reported  His comment suggested falsely that a report released by U S intelligence agencies in January had ruled out any impact that could be attributed to a covert Russian interference campaign that involved leaks of tens of thousands of stolen emails the flooding of social media sites with false claims and the purchase of ads on Facebook  A report compiled by the CIA and other agencies described that Russian operation as unprecedented in its scale and concluded that Moscow s goals were to undermine public faith in the U S democratic process and help elect Donald Trump  But the report reached no conclusions about whether that interference had altered the outcome an issue that U S intelligence officials made clear was considered beyond the scope of their inquiry  The report also warned against turning CIA analysts into political pundits We did not make an assessment of the impact that Russian activities had on the outcome of the 2016 election the report said U S spy agencies are charged with monitoring and assessing the intentions capabilities and actions of foreign actors the report said but do not analyze U S political processes or U S public opinion Pompeo was offering the president a reassuring political and false defense After a hue and cry arose the CIA walked back his claim As others have observed Pompeo is the only politician among the most senior national security officials secretaries of defense and state national security adviser and is quite comfortable with the president s operating style He runs the risk of undermining his and his agency s objectivity and its ability to tell the president hard uncomfortable truths  We ve also seen H R McMaster repeatedly provide cover for the president s mistakes e g giving the Russians code word intelligence and echoing Trump s bully boy tone Despite the efforts of those trying to spin the Iran deal decertification plan McMaster repeats the president s threats and bluster that we might just pull out of the deal presumably without our allies Is there a policy behind this or is it simply a political throwaway line He insists that complete denuclearization of North Korea is the only option creating a new red line and feeds Trump s hyperventilating  Frequent Trump critic Eliot Cohen has observed about McMaster s drift into the role of Trump cheerleader Having known liked and admired H R McMaster for many years I have to say what a terribly sad thing this is to watch On North Korea specifically he noted that McMaster s rhetoric is effectively a declaration of war If that is really true we are going to war in Korea and pretty soon Because denuclearization is not going to happen  It seems then that we have the worst of all worlds an excessive military presence in the highest echelons of our national security apparatus and an excessive degree of politicization which undermines the administration s waning credibility Trump really does bring out the worst in everyone ', 'https://www.washingtonpost.com/blogs/right-turn/wp/2017/10/20/morning-bits-1173/': 'Does everyone become intellectually corrupted working in this administration CIA Director Mike Pompeo declared Thursday that U S intelligence agencies determined that Russia s interference in the 2016 American presidential election did not alter the outcome a statement that distorted spy agency findings His comment suggested falsely that a report released by U S intelligence agencies in January had ruled out any impact that could be attributed to a covert Russian interference campaign that involved leaks of tens of thousands of stolen emails the flooding of social media sites with false claims and the purchase of ads on Facebook Lawmakers should call him up to the Hill to ask about this  No one has debased the office like this one Americans have low expectations for the administration of President Donald Trump In fact few U S residents think President Trump s tenure will be remembered as a positive one Nearly six in ten Americans 58 believe Mr Trump will be remembered as either one of the worst presidents in the nation s history 42 or a below average leader 16 About one in five 19 think he will be considered an average president Just 18 say Trump will be thought of as either an above average president 11 or one of the best presidents in U S history 7  Expectations for tax reform sure have deteriorated Sen Roy Blunt R Mo said Thursday that Republicans don t have to make every desired improvement to the tax code this year but have to at least get the ball rolling  He s even devalued the honor of a call from the president Gold Star Mom Hits Trump on CNN They Should Put Someone Else in Charge of Condolence Calls Maybe put someone else in charge of the executive branch  Now chief of staff John F Kelly has sullied his own reputation When he accuses Rep Frederica Wilson of listening in on the call he makes it sound like she was surreptitiously eavesdropping on another receiver Wilson was in a limo with Johnson s family when the call came The call was put on speakerphone presumably at Mrs Johnson s request so that everyone else there could hear it too The family wanted Wilson to hear it apparently Most significantly it wasn t just Wilson who objected to Trump s tone during the phone call It was Johnson s own mother  The GOP has deteriorated to the point the country would do better without it Whatever his impact may be on the country or the world Donald Trump s presidency imperils the future of his party and there isn t a serious minded Republican in Washington who would tell you otherwise privately In the short term Trump s determination to upend the health care market his vague tax plan that s already unpopular an approval rating that can t crack 40 percent his exhausting and inexhaustible penchant for conflict all of it threatens to make a massacre of the midterm elections if you go by any historical marker In the longer term it s plausible to think that Trump s public ambivalence toward white supremacists along with his contempt for immigrants and internationalism could end up rebranding Republicans for generations as the party of the past Not just the past but of bigotry and meanness  The VP has also cheapened his office A group of House Democrats on Thursday urged Vice President Pence to reimburse taxpayers the cost of his travel this month to Indianapolis for an NFL game he abruptly left after players kneeled during the national anthem ', 'https://www.washingtonpost.com/blogs/right-turn/wp/2017/10/22/lets-not-staff-a-white-house-with-generals-ever-again/': 'In defending his boss White House Chief of Staff John F Kelly gratuitously attacked Rep Frederica S Wilson D Fla derisively referred to her as being like empty barrels misrepresented her conduct at a dedication of an FBI building and even when film of the event showed his characterization to be utterly false did not apologize Kelly deemed it appropriate to restrict questions to reporters with a connection to a Gold Star family as if one group of Americans and their readers and viewers is more worthy than another However when White House press secretary Sarah Huckabee Sanders warned reporters not to criticize Kelly or his slander of Wilson the administration took on the creepy aura of a military junta  The Post reported  Instead of backing down White House press secretary Sarah Huckabee Sanders piled on Friday and said Kelly was justified in accusing the lawmaker of grandstanding despite erring on the facts As we say in the South all hat no cattle Sanders said of Wilson an African American who is known for wearing brightly colored cowboy hats  Sanders also attempted to shift the debate away from Kelly s inaccuracies to instead focus on his personal integrity   If you want to get into a debate with a four star Marine general I think that that s something highly inappropriate she said  No one in service of our country is beyond reproach or immune from criticism Generals get criticized and every day must answer to politicians who in turn are responsible to the public Trump by the way routinely demeaned generals whom he claimed had been reduced to rubble in the presidential campaign We don t believe in the divine right of kings or the infallibility of military or civilian leaders And Kelly now in a civilian role certainly should not be permitted to deploy his military service record no matter how admirable that may have been to deflect criticism and shut up the press  Kelly and Trump seem to actually have a lot in common They both display disdain for the press and contempt for critics Kelly rails at treatment of sacred women but enthusiastically serves a president who serially insults and abuses women Rather than address criticism Kelly and Trump both like to pull rank treat critics as their lessers and react indignantly when anyone questions their motives  CNN s Jake Tapper had it exactly right in his appearance Friday afternoon When a reporter pointed out just minutes ago that Kelly had gotten his facts wrong about this speech White House press secretary Sarah Sanders said one of the most shocking things I ve ever heard from that podium she suggested that journalists cannot question generals he said That s not how we do it here in the United States But then Trump has made destruction of democratic values and institutions a feature of his presidency  The press puts out fake news The special prosecutor is on a witch hunt The courts have no power to second guess the president on the travel ban It s all part of Trump s imperiousness and determination to delegitimize all independent sources of information and criticism Kelly rather than restrain these authoritarian impulses fuels them  Conventional wisdom has been telling us that Kelly has created a more disciplined and effective White House He s supposed to be taking his shifts for supervision of an erratic irrational president I don t see it  Since Kelly s arrival Trump has ignited explosive cultural confrontations failed again to repeal Obamacare and looked thoroughly hapless in his inability to articulate or stick to any position for more than an hour or so Trump blusters and threatens North Korea he alarms European allies by threatening to trash the Joint Comprehensive Plan of Action Trump under Kelly s day care still has not filled a slew of top level posts Trump is not becoming more competent more focused more civil or more respectful of others under Kelly s tutelage In fact he s getting worse on all four counts Kelly s eagerness to defend the president s unconscionable behavior and Kelly s own lack of respect for civilian politicians simply feed Trump s demons  Kelly should be replaced by someone who actually understands democratic governance and can deliver bad news and honest criticism to the president Going forward Congress needs to stomp out creeping military authoritarianism Congress should start by barring generals from acting in civilian capacities in the White House ', 'https://www.washingtonpost.com/blogs/right-turn/wp/2017/10/22/distinguished-pol-of-the-week-161/': 'Sen John McCain R Ariz showed this week why he is a national treasure In a stirring humble and dignified speech he reminded us of what is best in America the country he described as big boisterous brawling intemperate striving daring beautiful bountiful brave magnificent He appealed to the better angels of our nature coaxing listeners to live up to the best ideals of a country that is temporarily being led by the worst of presidents I ve seen Americans make sacrifices for our country and her causes and for people who were strangers to them but for our common humanity sacrifices that were much harder than the service asked of me he said And I ve seen the good they have done the lives they freed from tyranny and injustice the hope they encouraged the dreams they made achievable McCain spoke of honor shame and obligations concepts that are foreign to the current administration We have a moral obligation to continue in our just cause and we would bring more than shame on ourselves if we don t We will not thrive in a world where our leadership and ideals are absent We wouldn t deserve to  That speech set the stage for President George W Bush s marvelous speech later in the week as well as President Barack Obama s cheerful campaigning on behalf of Lt Gov Ralph Northam the Democratic gubernatorial candidate in Virginia  The two ex presidents and the one former GOP presidential nominee were reminders we can be a better country than we are now  McCain was not done for the week At a time when the administration oozes contempt for Congress and the press secretary has the nerve to say it is inappropriate to challenge a four star general John F Kelly is a retired general in a civilian role but that hire may have been a serious mistake McCain the chairman of the Senate Armed Services Committee reminded us Congress is a coequal branch of government and that we have civilian control of the military  Asked if was good enough for the military to be undertaking a review of the attack in Niger in which four American servicemen were killed he responded bluntly That s not how the system works We re coequal branches of government We should be informed at all times  The Post then reported that McCain threatened on Thursday to potentially use a subpoena to compel information from the Pentagon and the administration about the Niger attack complaining that it was easier under Obama to be read in on any details of active military operations By Friday Secretary of Defense James Mattis marched himself up to the Hill to brief McCain and his committee  For all that and his ongoing service to the country that owes him so much we can say well done Sen McCain ', 'https://www.washingtonpost.com/blogs/right-turn/wp/2017/10/20/how-do-you-argue-for-roy-moore/': 'Editor at large of the Weekly Standard and NeverTrump warrior Bill Kristol challenged Republicans via Twitter on Wednesday  1 Doug Jones would be a better U S senator than Roy Moore  2 Moore as a senator would be a constant embarrassment to the GOP 3 Moore s defeat wouldn t deprive GOP of Senate majority So why should Republican senators donors etc support Moore A They shouldn t  That set off as one would expect some robust debate engaging among others Eric Columbus an Obama era Justice Department official Columbus previously praised Sen Ben Sasse R Neb on Twitter for Sasse s denunciation of white supremacist Richard Spencer but called him out for not for repudiating Moore  Sasse to date has refused to address Moore s candidacy although he did on Thursday approvingly tweet portions of President George W Bush s speech denouncing nativism incivility racism etc Sasse tweeted Patriotic Americans regardless of party should read today s important speech by George W Bush He then retweeted some lines from the speech Our identity as a nation unlike many other nations is not determined by geography or ethnicity by soil or blood And yet he still has not responded to inquiries about his stance on Roy Moore or taken up Kristol s challenge  If one can refrain from endorsing President Trump and routinely criticize him denounce Spencer and praise Bush s speech repudiating Trumpism of the type the president and Moore subscribe to why cannot a sitting U S senator denounce Moore Sasse s office did not respond  So why hasn t a single federal office holding Republican repudiated Moore and why have so many current and former lawmakers even former Sen Tom Coburn R Okla endorsed him  The easy answer might be the correct one namely that we live in an era of moral cowards GOP politicians run scared of the mob afraid to stick their heads up for fear of drawing protests angry tweets or heavens forbid a primary challenger from the right by someone just like Roy Moore The squeamish Republicans seek cover in the sea of other cowering politicians knowing that there is safety in numbers Attention normally gets focused only on him her when they go against the prevailing tide Being one of the crowd even a detestable one give them security or so they think  Another rationale would go something like this All politicians are rotten so why not have a rotten one who ll vote my way most of the time This combines the bigotry of low expectations all pols are morally depraved with the notion that character does not have a place in political calculations To be sure those who voted for Trump might have expected him to change or improve but many others were willing to tolerate the racism ignorance cruelty etc to get what they wanted e g a tax cut These voters decided en masse to put on the back burner considerations of character much the way this administration has back burnered human rights By prioritizing other things they allow the bad guys whether despots in China or Islamophobes in Alabama to keep behaving badly  The back burner philosophy has it all wrong as I think Trump has shown Without character some degree of honesty diligence empathy decency every day becomes a calamity The morally deficient pol s inhumanity inevitably pops up again and again turning otherwise easy photo ops into disasters and interfering with any semblance of an agenda Throw paper towels in Puerto Rico Use a general s dead son to justify a clumsy condolence call or lack attachment to any position on a critical matter so as to utterly befuddle and paralyze Congress The unworkability of an undisciplined self absorbed leader is precisely why the GOP after a time dumped House Speaker Newt Gingrich He was too much trouble and was getting in the way  Bush s appearance Thursday reminded us that we have had good and bad presidents and some in between but the precondition for performing in high office is embrace of American values and decent character Trump didn t make the grade Moore surely doesn t Until pols like Coburn and Sasse recognize this we will continue on the slippery slope downward to a place where we cannot govern ourselves or stand our elected leaders ', 'https://www.washingtonpost.com/blogs/right-turn/wp/2017/10/20/faith-leaders-need-to-shape-up/': 'President George W Bush s speech on Thursday left the political and media world buzzing about his indictment of what has become the quartet of Trumpian ideas nativism protectionism isolationism and xenophobia These are not so much ideas but ill conceived grievances embodied in slogans and impulses designed to stir white grievance in the United States In a compelling follow on document from the Bush Institute entitled The Spirit of Liberty At Home In the World authors Thomas O Melia and Peter Wehner build on the objectives Bush identified in his speech hardening our defense leading in the world committing to citizenship and restoring democratic institutions  I ll focus on the last restoring democratic institutions because of the authors candid assessment of religious leaders Evangelical Christian leaders who have become the core support for Trump and his bastardized nationalism should take notice The authors write that when religion uses politics as a cudgel religion suffers  Religious leaders cannot be silent on public matters After all many of the greatest advances in justice in American history including abolishing slavery and ending segregation were the result in part of religious involvement in politics But the manner and style of that involvement is key When religious leaders and institutions use their faith as partisan weapons in our political wars it undermines the credibility of their core work Sociologists have found that connecting organized religion to partisan political agendas has led to a rise in the nones meaning individuals answering none of the above when asked about their religious preference  Likewise when religious leaders become thinly disguised partisans our democracy suffers  Representatives of religious institutions who present themselves as authority figures on matters of faith and public life need to be much more careful about allowing themselves to be viewed as political operatives Religious faith should not be subordinated to partisan loyalties and political power The church must be reminded that it is not the master or the servant of the state but rather the conscience of the state Martin Luther King Jr said It must be the guide and the critic of the state and never its tool  One cannot help but think that they have in mind the legion of evangelical conservatives who boosted Trump to office and now shield him from criticism absolve him of all blame for the division he has created and fall silent when he is not honest truthful empathetic or kind They act as political flacks not religious leaders  Moreover Melia and Wehner challenge religious leaders as the Rev Martin Luther King Jr did with white Southern clergy in the civil rights era to play a more active role within their own communities in championing a more civil and constructive public dialogue Their recommendations are sound  They can do this by their teaching and by modeling how to debate public matters with conviction but also respectfully and without dehumanizing others They can explain why religious convictions are not at odds with religious toleration and point out why the latter is in the self interest of faith communities In this unusually polarized and fractious time faith leaders have unique influence with their congregants They can appeal for reconciliation rather than division and show that principled people can also embody magnanimity and a generosity of spirit  The damaging influence of misguided clergy who wrap themselves in sanctimony is actually worse than the authors state Religious leaders have encouraged religious bigotry see Roy Moore sought to exploit fear and stereotypes calling for transgender Americans to be thrown out of the country demonized the Muslim faith by whipping up fear of sharia law and of refugees from war torn states exhorted their flock to lawlessness e g refusing to recognize gay marriage and cheered exclusion refusal to provide services to LGBT persons mass deportation of illegal immigrants even dreamers As we have discussed they have become the shock troops in the culture wars feeding their congregants anger and playing to their sense of victimhood  The document put out by the Bush Institute demonstrates serious and sober reflection Its tone is elevated and entirely without rancor No portion is more important than its spotlight on religious leaders responsibilities and failings We hope that these leaders take the opportunity for teshuva literally return in Hebrew more commonly considered as repentance They may not have consciously played a destructive role in dividing the United States but their help in repairing our torn social fabric would be dearly welcomed ', 'https://www.washingtonpost.com/blogs/right-turn/wp/2017/10/22/lets-not-staff-a-white-house-with-generals-ever-again/?tid=pm_opinions_pop': 'In defending his boss White House Chief of Staff John F Kelly gratuitously attacked Rep Frederica S Wilson D Fla derisively referred to her as being like empty barrels misrepresented her conduct at a dedication of an FBI building and even when film of the event showed his characterization to be utterly false did not apologize Kelly deemed it appropriate to restrict questions to reporters with a connection to a Gold Star family as if one group of Americans and their readers and viewers is more worthy than another However when White House press secretary Sarah Huckabee Sanders warned reporters not to criticize Kelly or his slander of Wilson the administration took on the creepy aura of a military junta  The Post reported  Instead of backing down White House press secretary Sarah Huckabee Sanders piled on Friday and said Kelly was justified in accusing the lawmaker of grandstanding despite erring on the facts As we say in the South all hat no cattle Sanders said of Wilson an African American who is known for wearing brightly colored cowboy hats  Sanders also attempted to shift the debate away from Kelly s inaccuracies to instead focus on his personal integrity   If you want to get into a debate with a four star Marine general I think that that s something highly inappropriate she said  No one in service of our country is beyond reproach or immune from criticism Generals get criticized and every day must answer to politicians who in turn are responsible to the public Trump by the way routinely demeaned generals whom he claimed had been reduced to rubble in the presidential campaign We don t believe in the divine right of kings or the infallibility of military or civilian leaders And Kelly now in a civilian role certainly should not be permitted to deploy his military service record no matter how admirable that may have been to deflect criticism and shut up the press  Kelly and Trump seem to actually have a lot in common They both display disdain for the press and contempt for critics Kelly rails at treatment of sacred women but enthusiastically serves a president who serially insults and abuses women Rather than address criticism Kelly and Trump both like to pull rank treat critics as their lessers and react indignantly when anyone questions their motives  CNN s Jake Tapper had it exactly right in his appearance Friday afternoon When a reporter pointed out just minutes ago that Kelly had gotten his facts wrong about this speech White House press secretary Sarah Sanders said one of the most shocking things I ve ever heard from that podium she suggested that journalists cannot question generals he said That s not how we do it here in the United States But then Trump has made destruction of democratic values and institutions a feature of his presidency  The press puts out fake news The special prosecutor is on a witch hunt The courts have no power to second guess the president on the travel ban It s all part of Trump s imperiousness and determination to delegitimize all independent sources of information and criticism Kelly rather than restrain these authoritarian impulses fuels them  Conventional wisdom has been telling us that Kelly has created a more disciplined and effective White House He s supposed to be taking his shifts for supervision of an erratic irrational president I don t see it  Since Kelly s arrival Trump has ignited explosive cultural confrontations failed again to repeal Obamacare and looked thoroughly hapless in his inability to articulate or stick to any position for more than an hour or so Trump blusters and threatens North Korea he alarms European allies by threatening to trash the Joint Comprehensive Plan of Action Trump under Kelly s day care still has not filled a slew of top level posts Trump is not becoming more competent more focused more civil or more respectful of others under Kelly s tutelage In fact he s getting worse on all four counts Kelly s eagerness to defend the president s unconscionable behavior and Kelly s own lack of respect for civilian politicians simply feed Trump s demons  Kelly should be replaced by someone who actually understands democratic governance and can deliver bad news and honest criticism to the president Going forward Congress needs to stomp out creeping military authoritarianism Congress should start by barring generals from acting in civilian capacities in the White House ', 'https://www.washingtonpost.com/blogs/right-turn/wp/2017/10/19/this-is-what-a-president-sounds-like/': 'Former president George W Bush gave a speech today a bookend if you will to Sen John McCain s R Ariz address early in the week upon accepting the Liberty Medal Bush spoke in a tone and with substance so different from what we have become acclimatized to hearing that his address has provoked a huge bipartisan thumbs up as though the country collectively could say Oh that is what a president is supposed to sound like  Bush surely had President Trump in mind when he addressed conspiracy theories nativism incivility and more but I think it s safe to say his intended audience was the moribund GOP We have now seen the party he used to lead decline into passivity and pure partisanship again and again enabling Trump rather than rallying to American principles and looking to the c0mmon good We ve seen Republicans eschew governance in favor of divisive sloganeering One president like Trump is bad enough the acceptance of his inhumanity by one of the major parties is a tragedy and national emergency  Bush began with a global view noting a worldwide assault on liberal democracies  Parts of Europe have developed an identity crisis We have seen insolvency economic stagnation youth unemployment anger about immigration resurgent ethno nationalism and deep questions about the meaning and durability of the European Union  America is not immune from these trends In recent decades public confidence in our institutions has declined Our governing class has often been paralyzed in the face of obvious and pressing needs The American dream of upward mobility seems out of reach for some who feel left behind in a changing economy Discontent deepened and sharpened partisan conflicts Bigotry seems emboldened Our politics seems more vulnerable to conspiracy theories and outright fabrication  There are some signs that the intensity of support for democracy itself has waned especially among the young who never experienced the galvanizing moral clarity of the Cold War or never focused on the ruin of entire nations by socialist central planning Some have called this democratic deconsolidation Really it seems to be a combination of weariness frayed tempers and forgetfulness  He soon pivoted to the unique challenges America faces  We have seen our discourse degraded by casual cruelty At times it can seem like the forces pulling us apart are stronger than the forces binding us together Argument turns too easily into animosity Disagreement escalates into dehumanization Too often we judge other groups by their worst examples while judging ourselves by our best intentions forgetting the image of God we should see in each other  We ve seen nationalism distorted into nativism forgotten the dynamism that immigration has always brought to America We see a fading confidence in the value of free markets and international trade forgetting that conflict instability and poverty follow in the wake of protectionism  We have seen the return of isolationist sentiments forgetting that American security is directly threatened by the chaos and despair of distant places where threats such as terrorism infectious disease criminal gangs and drug trafficking tend to emerge  Every Republican who endorsed Trump turns a blind eye to his unfitness or excuses his heinous language and conduct should feel shame upon hearing those words  Bush s recommendation is simple but hardly simplistic We need to recall and recover our own identity Americans have a great advantage To renew our country we only need to remember our values He s talking to you Republicans who ve forgotten what he rightly calls the American creed  Our identity as a nation unlike many other nations is not determined by geography or ethnicity by soil or blood Being an American involves the embrace of high ideals and civic responsibility We become the heirs of Thomas Jefferson by accepting the ideal of human dignity found in the Declaration of Independence We become the heirs of James Madison by understanding the genius and values of the U S Constitution We become the heirs of Martin Luther King Jr by recognizing one another not by the color of their skin but by the content of their character  This means that people of every race religion and ethnicity can be fully and equally American It means that bigotry or white supremacy in any form is blasphemy against the American creed  There is nothing in his four basic recommendations hardening our defenses against external threats to democracy maintaining U S leadership in the world strengthening democratic citizenship and call ing on the major institutions of our democracy public and private to consciously and urgently attend to the problem of declining trust that Democrats of good faith should dispute They ll have differences in specifics When should we intervene internationally Which electoral reforms do we need but that is understandable and healthy  What is critical is that Bush has identified precisely the issues that must be addressed if we are to stave off Trump and Trumpism Democrats including ex presidents would be foolish not to embrace Bush s agenda and where possible work together After all we are all Americans who embrace the ideal of human dignity found in the Declaration of Independence and the genius and values of the U S Constitution as well as the commitment to equal rights and justice for all Americans It s the current president who doesn t get it but there is a solution several actually for that as well ', 'https://www.washingtonpost.com/blogs/right-turn/wp/2017/10/22/sunday-wrap-230/': 'Who said it  1 We in uniform protect the rights of those to criticize us frankly  2 Does he really know the guy that he works for  3 You walk into the White House and it looks far too much like a retreat for Goldman Sachs executives  4 If these allegations are crap why spend 32 million to settle them  5 This presidency doesn t get anything done All he does is spend his time tweeting and degrading his so called enemies That doesn t work and demeans the presidency  Answers are 1 Here 2 here 3 here 4 here and 5 here ', 'https://www.washingtonpost.com/blogs/right-turn/wp/2017/10/20/trump-makes-himself-john-kelly-and-everyone-around-them-look-rotten-yet-again/': 'President Trump had to have the last word He always does On Thursday evening after two days of controversy surrounding his call to the widow of Sgt La David Johnson and the remarkable appearance by Gold Star father and White House Chief of Staff John Kelly felt compelled to tweet The Fake News is going crazy with wacky Congresswoman Wilson D who was SECRETLY on a very personal call and gave a total lie on content Just about everything in the tweet was false so let s start from the top  Trump after being nagged by the media as to why he hadn t promptly sent condolences to four military families who lost sons in Niger claimed that other presidents didn t call Gold Star families untrue and dragged Kelly into it saying Barack Obama never called Kelly True but incomplete since Kelly sat at Michelle Obama s table at an event the former president hosted in honor of Gold Star families  Only after that scene did Trump finally decide to call Johnson s widow Myeshia Johnson who was in a car with Johnson s mother and family friend Rep Frederica Wilson D Fla She put the phone on speaker According to Wilson Johnson s widow Johnson s mother and even Kelly who said he had given Trump the line Trump told Johnson her husband knew what he was getting into when he signed up Trump came across as callous delivering the line whereas in Kelly s telling it was moving and reverential  Wilson went public to berate the president and castigate him for making Johnson s wife cry When cornered Trump does what he always does Lie He denied saying this is what he signed up for to Johnson He also claimed he had proof he didn t say it That was apparently untrue also  For another day controversy swirled and the White House was obviously getting nervous that the president was starting to look inhuman more so than usual So the White House did what it now finds useful sending out the only White House staffer who has a shred of credibility Kelly Kelly spoke nobly recalling with tremendous emotion his own experience learning of his son s death and solemnly related the process for notifying families  However for reasons that are not entirely clear Kelly then went after Wilson with a vengeance He didn t say she lied to the contrary he said Trump had delivered the line Kelly had recommended Rather he skewered Wilson for politicizing the call he was stunned he repeated and then falsely accused her of bragging at a ceremony dedicating an FBI building to two slain officers that she had gotten the money for the building That accusation was apparently untrue as well not to mention irrelevant The Miami Herald reported  Kelly criticized Democratic U S Rep Frederica Wilson for claiming she got the money for the new building during the 2015 ceremony while he and others in the audience were focused on the heroism of agents Benjamin Grogan and Jerry Dove killed during a 1986 shootout with bank robbers south of Miami  Thursday night Wilson said Kelly got the story flat out wrong In fact she said Washington approved the money before she was even in Congress The legislation she sponsored named the building after Grogan and Dove a law enacted just days before the ceremony  Kelly then went into a weird soliloquy  It stuns me that a member of Congress would have listened in on that conversation absolutely stuns me And I thought at least that was sacred You know when I was a kid growing up a lot of things were sacred in our country Women were sacred looked upon with great honor That s obviously not the case anymore as we see from recent cases Life the dignity of life was sacred That s gone Religion that seems to be gone as well Gold Star families I think that left in the convention over the summer  Women were sacred I m unaware that women were once immune from sexual harassment in the workplace unless of course Kelly is recalling when women generally weren t allowed to work outside the house Some observers thought Kelly was slyly jabbing at Trump for attacking the Khans another Gold Star family or for Trump s own history of alleged sexual harassment and abuse It frankly sounded to me as though he was criticizing the Khans for weighing in on Hillary Clinton s behalf The spiel sounded like a campaign riff directed at members of the nostalgic Trump base who imagine some mythical time in our past when women were on a pedestal and religion was a more dominant factor in public life  And that is what brought us to Trump s tweet Thursday night  If you ve decided after revisiting all of this that everyone with the exception of the heroic Sgt Johnson his widow and his mother looks shabby you re not alone Trump apparently was trying to be nice but made the widow cry in his original call Rather than apologize and move on he spent two days lying dragging others into the mess and ultimately distracting attention away from the slain serviceman and three others killed in Niger  Kelly allowed himself to be used as a prop simultaneously drawing on sympathy for his loss of a son and opportunistically spitting political venom at Wilson The Post reported The appearance was an attempt to tamp down a self created and ballooning controversy over Trump s contacts with the families of fallen soldiers He didn t express remorse for any upset suffered by Johnson s wife or other family members because of the awkward call  As for Wilson she was telling the truth about the call but acting more than a little too gleeful in ratting out the president when attention should have been on the Gold Star families  Sometimes you just want the whole lot of them to go away  We ve grown sadly accustomed to watching Trump behave badly punching down at those who call him out The focus must always be on him the perpetual victim  Kelly s conduct was a sad revelation however and a reminder that while he looks upon himself as serving the country and he is he is also enabling a dishonest morally detestable politician As The Post reported There was evident irony in Kelly s making that particular point in defense of Trump whose presidential campaign last year was marked by name calling harsh rhetoric about Muslims Mexicans and other minorities and allegations of sexual misconduct by more than a dozen women I would call it hypocrisy not irony He s after all standing next to and by someone who truly treats nothing people the truth democracy as sacred He s using his reservoir of honor and credibility to shield a president who is lacking both  Moreover Kelly s presence brings us back to the unprecedented number of military men turned civilian counselors in this administration Stocking an administration with generals diminishes the military by forcing revered figures to play politics and undermines the concept of civilian control especially in an administration in which the ex military and military advisers are taking adult day care shifts to mind an unfit president as Sen Bob Corker R Tenn memorably said  Our men and women placing themselves in harm s way and their families deserve better than the Trump crowd The country deserves honest civilian leaders Unfortunately like all Americans our fighting men and women are stuck with Trump and his reckless saber rattling for the time being   ', 'https://www.washingtonpost.com/blogs/right-turn/wp/2017/10/19/when-giving-himself-a-perfect-score-on-puerto-rico-isnt-the-nuttiest-part/': 'In a meandering self congratulatory news conference today in which he awarded himself a perfect 10 on Puerto Rico hurricane relief efforts keep in mind about 80 percent of residents still lack electricity and he dredged up a repeatedly debunked conspiracy theory about Hillary Clinton and Russian uranium is the special counsel rattling him the weirdest part of President Trump s comments in the Oval Office concerned health care  Recall that he was for then against then for sort of the Alexander Murray bill to facilitate payment of health care subsidy payments also known as cost sharing reductions CSRs On Thursday Trump tossed out this word salad The Post reported  The president told reporters Thursday that while he prefers providing federal health finding in a block grant to states he is open to a different approach for a finite period   There will be a transition period so anything they re working on will be short term Trump said referring to Alexander and Murray It ll be absolutely short term because ultimately we will be it s going to be repeal and replace  The president has repeatedly decried the idea of paying money to insurers which is the way cost sharing payments are distributed   So I have great respect as you know for both of the senators that you mentioned and if they can come up with a short term solution he said without finishing the sentence What I did say though is I don t want the insurance companies making any more money than they have to  The bill has always been a short term solution so the only thing that has changed is Trump over and over again  He reportedly called Sen Lamar Alexander R Tenn at least twice on Wednesday More helpful to Alexander and Sen Patty Murray D Wash than Trump s contradictory meanderings are GOP co sponsors of which there are now a total of 12 with 12 Democrats more than enough to pass the bill if it comes to the floor  Alexander told his colleagues today This is a first step Improve it and pass it sooner rather than later Our purpose is to stabilize and then lower the cost of premiums in the individual insurance market for the year 2018 and 2019 He said pointedly Unless the CSRs are replaced with something else temporarily there will be chaos in this country and millions of Americans will be hurt He also made a point of relating that he told the president this was not an insurance company bailout but that the CSRs were designed to let low income Americans pay their premiums  Just a day ago Trump said he wouldn t do anything about the chaos he created by cutting off the CSRs today he has a different answer This is emblematic of a president who doesn t know what he wants what he is talking about or what is in legislation A Senate staffer wryly remarked that the staffer s boss didn t really know where the president stood It depends on the time of day the senator purportedly said Another frustrated staff member when asked if the president was now supportive of a congressional fix to the CSRs replied good naturedly Who the heck knows  That it seems is the best summation of Trump s entire presidency Good luck to the GOP getting tax reform done They ll need it '}\n"
     ]
    }
   ],
   "source": [
    "print(blogs)"
   ]
  },
  {
   "cell_type": "code",
   "execution_count": null,
   "metadata": {
    "collapsed": true
   },
   "outputs": [],
   "source": [
    "f = open('/Users/ZhouJiexin/Documents/COINS/blogs.txt', \"w\")\n",
    "for i in blogs:\n",
    "    f.write(i + '\\t' + blogs[i]+'\\n')\n",
    "f.close()"
   ]
  }
 ],
 "metadata": {
  "kernelspec": {
   "display_name": "Python 3",
   "language": "python",
   "name": "python3"
  },
  "language_info": {
   "codemirror_mode": {
    "name": "ipython",
    "version": 3
   },
   "file_extension": ".py",
   "mimetype": "text/x-python",
   "name": "python",
   "nbconvert_exporter": "python",
   "pygments_lexer": "ipython3",
   "version": "3.6.2"
  }
 },
 "nbformat": 4,
 "nbformat_minor": 2
}
