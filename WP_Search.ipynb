{
 "cells": [
  {
   "cell_type": "code",
   "execution_count": null,
   "metadata": {
    "collapsed": true
   },
   "outputs": [],
   "source": [
    "import re\n",
    "from urllib.request import urlopen,Request\n",
    "import numpy as np\n",
    "from bs4 import BeautifulSoup"
   ]
  },
  {
   "cell_type": "code",
   "execution_count": 27,
   "metadata": {
    "collapsed": true
   },
   "outputs": [],
   "source": [
    "url = 'https://www.washingtonpost.com/newssearch/?datefilter=All%20Since%202005&query=amazon&sort=Relevance&utm_term=.56fedd52b417'"
   ]
  },
  {
   "cell_type": "code",
   "execution_count": 28,
   "metadata": {
    "collapsed": false
   },
   "outputs": [
    {
     "name": "stdout",
     "output_type": "stream",
     "text": [
      "[<a class=\"wp-logo-link\" href=\"https://www.washingtonpost.com\" target=\"_self\"> <img alt=\"The Washington Post\" class=\"main-logo\" src=\"https://www.washingtonpost.com/pb/resources/img/thewashingtonpost-white-2x.png\" width=\"181\"/> <div class=\"tagline-wrapper\"> <span class=\"header-tagline\">Democracy Dies in Darkness</span> </div> </a>, <a class=\"button section-menu-btn sections\" href=\"#\" id=\"section-menu-btn\" target=\"_self\"> Sections <i class=\"fa fa-bars\"></i> </a>, <a class=\"section-menu-btn\" href=\"#\" target=\"_self\"> <i class=\"fa fa-bars mobile-hamburger-ic\" id=\"mobile-hamburger-ic\"></i> </a>, <a href=\"#\" id=\"settings-nav-btn\" target=\"_self\"></a>, <a class=\"button\" href=\"https://subscribe.washingtonpost.com/acquisition/?nid=top_pb_subscribe&amp;promo=digital04_header_default&amp;oscode=RPWH&amp;wpsrc=CM0000445&amp;destination=http://www.washingtonpost.com/pb/sitesearch-header/&amp;tid=nav_subscribe_logged_out\" target=\"_self\"> <span>Subscribe</span> </a>, <a class=\"button\" target=\"_self\"> <span class=\"username\">Username</span> </a>, <a class=\"button\" href=\"https://subscribe.washingtonpost.com/loginregistration/index.html?tid=nav_sign_in\" id=\"sign-in-link\" target=\"_self\"> <span class=\"username\">Sign In</span> </a>, <a href=\"https://subscribe.washingtonpost.com/profile/#/?destination=https://www.washingtonpost.com/&amp;refresh=true&amp;tid=nav_acctmgnt_menu\" target=\"_self\">Account</a>, <a href=\"https://subscribe.washingtonpost.com/profile/#/?destination=https://www.washingtonpost.com/&amp;refresh=true&amp;tid=nav_acctmgnt_menu\" target=\"_self\">Profile</a>, <a href=\"https://subscribe.washingtonpost.com/newsletters?tid=nav_acctmgnt_menu\" target=\"_self\">Newsletters &amp; Alerts</a>, <a href=\"https://subscribe.washingtonpost.com/gift/?promo=digital_nav_gift&amp;tid=nav_acctmgnt_menu\" target=\"_self\">Gift Subscriptions</a>, <a href=\"http://help.washingtonpost.com/ics/support/ticketnewwizard.asp?tid=nav_acctmgnt_menu\" target=\"_self\">Contact Us</a>, <a href=\"http://help.washingtonpost.com/ics/support/KBSplash.asp?tid=nav_acctmgnt_menu\" target=\"_self\">Help Desk</a>, <a class=\"button\" href=\"https://subscribe.washingtonpost.com/acquisition/?nid=top_pb_subscribe&amp;promo=digital_nav_subbtn&amp;oscode=RPWH&amp;wpsrc=CM0000445&amp;destination=http://www.washingtonpost.com/pb/sitesearch-header/&amp;tid=nav_subscribe_logged_in\" target=\"_self\"> <span>Subscribe</span> </a>, <a href=\"https://subscribe.washingtonpost.com/profile/#/?destination=https://www.washingtonpost.com/&amp;refresh=true&amp;tid=nav_acctmgnt_menu\" target=\"_self\">Account</a>, <a href=\"https://subscribe.washingtonpost.com/profile/#/?destination=https://www.washingtonpost.com/&amp;refresh=true&amp;tid=nav_acctmgnt_menu\" target=\"_self\">Profile</a>, <a href=\"https://subscribe.washingtonpost.com/newsletters?tid=nav_acctmgnt_menu\" target=\"_self\">Newsletters &amp; Alerts</a>, <a href=\"https://subscribe.washingtonpost.com/gift/?promo=digital_nav_gift&amp;tid=nav_acctmgnt_menu\" target=\"_self\">Gift Subscriptions</a>, <a href=\"http://help.washingtonpost.com/ics/support/ticketnewwizard.asp?tid=nav_acctmgnt_menu\" target=\"_self\">Contact Us</a>, <a href=\"http://help.washingtonpost.com/ics/support/KBSplash.asp?tid=nav_acctmgnt_menu\" target=\"_self\">Help Desk</a>, <a class=\"main-nav-item screenreader-link\" href=\"http://www.washingtonpost.com/pb/sitesearch-header/?outputType=accessibility&amp;nid=menu_nav_accessibilityforscreenreader\" target=\"_self\">Accessibility for screenreader</a>, <a href=\"//www.washingtonpost.com\" target=\"_self\"><b>washingtonpost.com</b></a>, <a href=\"http://help.washingtonpost.com/ics/support/KBSplash.asp?deptID=15080\" target=\"_self\">Help and Contact Us</a>, <a href=\"//www.washingtonpost.com/terms-of-service/2011/11/18/gIQAldiYiN_story.html\" target=\"_self\">Terms of Service</a>, <a href=\"//www.washingtonpost.com/privacy-policy/2011/11/18/gIQASIiaiN_story.html\" target=\"_self\">Privacy Policy</a>, <a href=\"//www.washingtonpost.com/terms-of-sale-for-print-products/2014/05/08/d60c4bc8-d6c0-11e3-aae8-c2d44bd79778_story.html\" target=\"_self\">Print Products Terms of Sale</a>, <a href=\"//www.washingtonpost.com/terms-of-sale-for-digital-products/2014/05/06/b7763844-cbf9-11e3-93eb-6c0037dde2ad_story.html\" target=\"_self\">Digital Products Terms of Sale</a>, <a href=\"//www.washingtonpost.com/news/ask-the-post/discussion-and-submission-guidelines/\" target=\"_self\">Submissions and Discussion Policy</a>, <a href=\"//www.washingtonpost.com/rss-terms-of-service/2012/01/16/gIQAadFYAQ_story.html\" target=\"_self\">RSS Terms of Service</a>, <a href=\"//www.washingtonpost.com/how-can-i-opt-out-of-online-advertising-cookies/2011/11/18/gIQABECbiN_story.html\" target=\"_self\">Ad Choices</a>]\n"
     ]
    }
   ],
   "source": [
    "def articleUrls(url):\n",
    "    req = Request(url, headers={'User-Agent': 'Mozilla/5.0'})\n",
    "    html = urlopen(req).read()\n",
    "    soup = BeautifulSoup(html,\"lxml\")\n",
    "    links = soup.findAll(\"a\")\n",
    "    print(links)\n",
    "    t = set([ link[\"href\"] for link in links if link.has_attr('href')])\n",
    "    l = []\n",
    "    for s in t:\n",
    "        a = s.split('/')\n",
    "        if len(a)==11 and a[4]=='right-turn' and a[-1]!='#comments':\n",
    "            l.append(s)\n",
    "    return l\n",
    "\n",
    "l = articleUrls(url)\n",
    "\n",
    "clean = lambda s: str(re.sub('[\\W_]+', ' ', s))\n",
    "\n",
    "def getText(articleUrl):\n",
    "    html = urlopen(articleUrl).read()\n",
    "    soup = BeautifulSoup(html,\"lxml\")\n",
    "    article = soup.body.findAll('article')\n",
    "    text = ' '.join([clean(s.text) for s in article[0].findAll('p')])\n",
    "    return text"
   ]
  },
  {
   "cell_type": "code",
   "execution_count": 24,
   "metadata": {
    "collapsed": true
   },
   "outputs": [],
   "source": [
    "blogs = {}\n",
    "for i in l:\n",
    "    text = getText(i)\n",
    "    blogs[i] = text"
   ]
  },
  {
   "cell_type": "code",
   "execution_count": 10,
   "metadata": {
    "collapsed": false
   },
   "outputs": [],
   "source": [
    "f = open('/Users/ZhouJiexin/Documents/COINS/blogs.txt', \"w\")\n",
    "for i in blogs:\n",
    "    f.write(i + '\\t' + blogs[i]+'\\n')\n",
    "f.close()"
   ]
  },
  {
   "cell_type": "code",
   "execution_count": 25,
   "metadata": {
    "collapsed": false
   },
   "outputs": [
    {
     "name": "stdout",
     "output_type": "stream",
     "text": [
      "{}\n"
     ]
    }
   ],
   "source": [
    "print(blogs)"
   ]
  },
  {
   "cell_type": "code",
   "execution_count": null,
   "metadata": {
    "collapsed": true
   },
   "outputs": [],
   "source": []
  },
  {
   "cell_type": "code",
   "execution_count": null,
   "metadata": {
    "collapsed": true
   },
   "outputs": [],
   "source": []
  }
 ],
 "metadata": {
  "kernelspec": {
   "display_name": "Python 3",
   "language": "python",
   "name": "python3"
  },
  "language_info": {
   "codemirror_mode": {
    "name": "ipython",
    "version": 3
   },
   "file_extension": ".py",
   "mimetype": "text/x-python",
   "name": "python",
   "nbconvert_exporter": "python",
   "pygments_lexer": "ipython3",
   "version": "3.6.2"
  }
 },
 "nbformat": 4,
 "nbformat_minor": 2
}
